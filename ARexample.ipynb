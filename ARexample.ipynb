{
  "nbformat": 4,
  "nbformat_minor": 0,
  "metadata": {
    "colab": {
      "provenance": []
    },
    "kernelspec": {
      "name": "python3",
      "display_name": "Python 3"
    },
    "language_info": {
      "name": "python"
    }
  },
  "cells": [
    {
      "cell_type": "code",
      "execution_count": 1,
      "metadata": {
        "id": "f6iM84yQdOv-"
      },
      "outputs": [],
      "source": [
        "from tensorflow.keras.layers import Input,Dense\n",
        "from tensorflow.keras.models import Model\n",
        "from tensorflow.keras.optimizers import SGD,Adam\n",
        "\n",
        "import numpy as np\n",
        "import pandas as pd\n",
        "import matplotlib.pyplot as plt"
      ]
    },
    {
      "cell_type": "code",
      "source": [
        "series=np.sin(0.1*np.arange(200))+np.random.randn(200)*0.1\n",
        "\n",
        "plt.plot(series)\n",
        "plt.show()"
      ],
      "metadata": {
        "colab": {
          "base_uri": "https://localhost:8080/",
          "height": 265
        },
        "id": "iIw3j0d-eE4p",
        "outputId": "9e5655df-9dd3-489c-ed25-b92bc91e541b"
      },
      "execution_count": 12,
      "outputs": [
        {
          "output_type": "display_data",
          "data": {
            "text/plain": [
              "<Figure size 432x288 with 1 Axes>"
            ],
            "image/png": "[encoded data removed]"
          },
          "metadata": {
            "needs_background": "light"
          }
        }
      ]
    },
    {
      "cell_type": "code",
      "source": [
        "T=10\n",
        "X=[]\n",
        "Y=[]\n",
        "for t in range(len(series)-T):\n",
        "  x=series[t:t+T]\n",
        "  X.append(x)\n",
        "  y=series[t+T]\n",
        "  Y.append(y)\n",
        "\n",
        "X=np.array(X).reshape(-1,T)\n",
        "Y=np.array(Y)\n",
        "N=len(X)\n",
        "print(X.shape,Y.shape)"
      ],
      "metadata": {
        "colab": {
          "base_uri": "https://localhost:8080/"
        },
        "id": "lfwWQVYBvLOx",
        "outputId": "04bfe5f3-1ea3-41d5-9423-16340b3c1ad1"
      },
      "execution_count": 13,
      "outputs": [
        {
          "output_type": "stream",
          "name": "stdout",
          "text": [
            "(190, 10) (190,)\n"
          ]
        }
      ]
    },
    {
      "cell_type": "code",
      "source": [
        "i=Input(shape=(T,))\n",
        "x=Dense(1)(i)\n",
        "model=Model(i,x)\n",
        "model.compile(\n",
        "    loss='mse',\n",
        "    optimizer=Adam(lr=0.1)\n",
        ")\n",
        "\n",
        "r=model.fit(X[:N//2],Y[:N//2],epochs=80,validation_data=(X[-N//2:],Y[-N//2:]))"
      ],
      "metadata": {
        "colab": {
          "base_uri": "https://localhost:8080/"
        },
        "id": "u_NgjM-6vQxa",
        "outputId": "0d623d89-4c4e-44af-828e-d03fde44b1f1"
      },
      "execution_count": 14,
      "outputs": [
        {
          "output_type": "stream",
          "name": "stdout",
          "text": [
            "Epoch 1/80\n"
          ]
        },
        {
          "output_type": "stream",
          "name": "stderr",
          "text": [
            "/usr/local/lib/python3.8/dist-packages/keras/optimizers/optimizer_v2/adam.py:110: UserWarning: The `lr` argument is deprecated, use `learning_rate` instead.\n",
            "  super(Adam, self).__init__(name, **kwargs)\n"
          ]
        },
        {
          "output_type": "stream",
          "name": "stdout",
          "text": [
            "3/3 [==============================] - 0s 63ms/step - loss: 0.5326 - val_loss: 0.4403\n",
            "Epoch 2/80\n",
            "3/3 [==============================] - 0s 16ms/step - loss: 0.3234 - val_loss: 0.1645\n",
            "Epoch 3/80\n",
            "3/3 [==============================] - 0s 16ms/step - loss: 0.1547 - val_loss: 0.1405\n",
            "Epoch 4/80\n",
            "3/3 [==============================] - 0s 15ms/step - loss: 0.1083 - val_loss: 0.0407\n",
            "Epoch 5/80\n",
            "3/3 [==============================] - 0s 31ms/step - loss: 0.0668 - val_loss: 0.0923\n",
            "Epoch 6/80\n",
            "3/3 [==============================] - 0s 16ms/step - loss: 0.0839 - val_loss: 0.0647\n",
            "Epoch 7/80\n",
            "3/3 [==============================] - 0s 17ms/step - loss: 0.0677 - val_loss: 0.1224\n",
            "Epoch 8/80\n",
            "3/3 [==============================] - 0s 17ms/step - loss: 0.0733 - val_loss: 0.0516\n",
            "Epoch 9/80\n",
            "3/3 [==============================] - 0s 23ms/step - loss: 0.0440 - val_loss: 0.0634\n",
            "Epoch 10/80\n",
            "3/3 [==============================] - 0s 15ms/step - loss: 0.0477 - val_loss: 0.0393\n",
            "Epoch 11/80\n",
            "3/3 [==============================] - 0s 16ms/step - loss: 0.0318 - val_loss: 0.0439\n",
            "Epoch 12/80\n",
            "3/3 [==============================] - 0s 25ms/step - loss: 0.0342 - val_loss: 0.0344\n",
            "Epoch 13/80\n",
            "3/3 [==============================] - 0s 22ms/step - loss: 0.0274 - val_loss: 0.0390\n",
            "Epoch 14/80\n",
            "3/3 [==============================] - 0s 30ms/step - loss: 0.0304 - val_loss: 0.0349\n",
            "Epoch 15/80\n",
            "3/3 [==============================] - 0s 15ms/step - loss: 0.0288 - val_loss: 0.0392\n",
            "Epoch 16/80\n",
            "3/3 [==============================] - 0s 19ms/step - loss: 0.0273 - val_loss: 0.0337\n",
            "Epoch 17/80\n",
            "3/3 [==============================] - 0s 16ms/step - loss: 0.0266 - val_loss: 0.0345\n",
            "Epoch 18/80\n",
            "3/3 [==============================] - 0s 23ms/step - loss: 0.0238 - val_loss: 0.0309\n",
            "Epoch 19/80\n",
            "3/3 [==============================] - 0s 17ms/step - loss: 0.0230 - val_loss: 0.0306\n",
            "Epoch 20/80\n",
            "3/3 [==============================] - 0s 24ms/step - loss: 0.0221 - val_loss: 0.0294\n",
            "Epoch 21/80\n",
            "3/3 [==============================] - 0s 15ms/step - loss: 0.0218 - val_loss: 0.0287\n",
            "Epoch 22/80\n",
            "3/3 [==============================] - 0s 15ms/step - loss: 0.0211 - val_loss: 0.0280\n",
            "Epoch 23/80\n",
            "3/3 [==============================] - 0s 25ms/step - loss: 0.0203 - val_loss: 0.0276\n",
            "Epoch 24/80\n",
            "3/3 [==============================] - 0s 15ms/step - loss: 0.0202 - val_loss: 0.0267\n",
            "Epoch 25/80\n",
            "3/3 [==============================] - 0s 16ms/step - loss: 0.0202 - val_loss: 0.0270\n",
            "Epoch 26/80\n",
            "3/3 [==============================] - 0s 17ms/step - loss: 0.0187 - val_loss: 0.0260\n",
            "Epoch 27/80\n",
            "3/3 [==============================] - 0s 16ms/step - loss: 0.0194 - val_loss: 0.0254\n",
            "Epoch 28/80\n",
            "3/3 [==============================] - 0s 24ms/step - loss: 0.0192 - val_loss: 0.0259\n",
            "Epoch 29/80\n",
            "3/3 [==============================] - 0s 15ms/step - loss: 0.0189 - val_loss: 0.0252\n",
            "Epoch 30/80\n",
            "3/3 [==============================] - 0s 16ms/step - loss: 0.0177 - val_loss: 0.0238\n",
            "Epoch 31/80\n",
            "3/3 [==============================] - 0s 24ms/step - loss: 0.0174 - val_loss: 0.0244\n",
            "Epoch 32/80\n",
            "3/3 [==============================] - 0s 16ms/step - loss: 0.0165 - val_loss: 0.0233\n",
            "Epoch 33/80\n",
            "3/3 [==============================] - 0s 15ms/step - loss: 0.0169 - val_loss: 0.0227\n",
            "Epoch 34/80\n",
            "3/3 [==============================] - 0s 24ms/step - loss: 0.0158 - val_loss: 0.0228\n",
            "Epoch 35/80\n",
            "3/3 [==============================] - 0s 26ms/step - loss: 0.0159 - val_loss: 0.0218\n",
            "Epoch 36/80\n",
            "3/3 [==============================] - 0s 18ms/step - loss: 0.0170 - val_loss: 0.0218\n",
            "Epoch 37/80\n",
            "3/3 [==============================] - 0s 27ms/step - loss: 0.0159 - val_loss: 0.0231\n",
            "Epoch 38/80\n",
            "3/3 [==============================] - 0s 15ms/step - loss: 0.0154 - val_loss: 0.0212\n",
            "Epoch 39/80\n",
            "3/3 [==============================] - 0s 17ms/step - loss: 0.0150 - val_loss: 0.0206\n",
            "Epoch 40/80\n",
            "3/3 [==============================] - 0s 23ms/step - loss: 0.0143 - val_loss: 0.0202\n",
            "Epoch 41/80\n",
            "3/3 [==============================] - 0s 18ms/step - loss: 0.0139 - val_loss: 0.0199\n",
            "Epoch 42/80\n",
            "3/3 [==============================] - 0s 16ms/step - loss: 0.0138 - val_loss: 0.0196\n",
            "Epoch 43/80\n",
            "3/3 [==============================] - 0s 18ms/step - loss: 0.0141 - val_loss: 0.0193\n",
            "Epoch 44/80\n",
            "3/3 [==============================] - 0s 15ms/step - loss: 0.0131 - val_loss: 0.0196\n",
            "Epoch 45/80\n",
            "3/3 [==============================] - 0s 15ms/step - loss: 0.0138 - val_loss: 0.0188\n",
            "Epoch 46/80\n",
            "3/3 [==============================] - 0s 17ms/step - loss: 0.0135 - val_loss: 0.0190\n",
            "Epoch 47/80\n",
            "3/3 [==============================] - 0s 15ms/step - loss: 0.0126 - val_loss: 0.0199\n",
            "Epoch 48/80\n",
            "3/3 [==============================] - 0s 16ms/step - loss: 0.0136 - val_loss: 0.0181\n",
            "Epoch 49/80\n",
            "3/3 [==============================] - 0s 23ms/step - loss: 0.0123 - val_loss: 0.0181\n",
            "Epoch 50/80\n",
            "3/3 [==============================] - 0s 15ms/step - loss: 0.0132 - val_loss: 0.0178\n",
            "Epoch 51/80\n",
            "3/3 [==============================] - 0s 15ms/step - loss: 0.0123 - val_loss: 0.0179\n",
            "Epoch 52/80\n",
            "3/3 [==============================] - 0s 17ms/step - loss: 0.0131 - val_loss: 0.0177\n",
            "Epoch 53/80\n",
            "3/3 [==============================] - 0s 15ms/step - loss: 0.0144 - val_loss: 0.0176\n",
            "Epoch 54/80\n",
            "3/3 [==============================] - 0s 18ms/step - loss: 0.0121 - val_loss: 0.0190\n",
            "Epoch 55/80\n",
            "3/3 [==============================] - 0s 26ms/step - loss: 0.0120 - val_loss: 0.0175\n",
            "Epoch 56/80\n",
            "3/3 [==============================] - 0s 16ms/step - loss: 0.0124 - val_loss: 0.0169\n",
            "Epoch 57/80\n",
            "3/3 [==============================] - 0s 16ms/step - loss: 0.0118 - val_loss: 0.0168\n",
            "Epoch 58/80\n",
            "3/3 [==============================] - 0s 22ms/step - loss: 0.0114 - val_loss: 0.0165\n",
            "Epoch 59/80\n",
            "3/3 [==============================] - 0s 17ms/step - loss: 0.0118 - val_loss: 0.0164\n",
            "Epoch 60/80\n",
            "3/3 [==============================] - 0s 16ms/step - loss: 0.0113 - val_loss: 0.0163\n",
            "Epoch 61/80\n",
            "3/3 [==============================] - 0s 25ms/step - loss: 0.0116 - val_loss: 0.0164\n",
            "Epoch 62/80\n",
            "3/3 [==============================] - 0s 24ms/step - loss: 0.0111 - val_loss: 0.0162\n",
            "Epoch 63/80\n",
            "3/3 [==============================] - 0s 15ms/step - loss: 0.0112 - val_loss: 0.0160\n",
            "Epoch 64/80\n",
            "3/3 [==============================] - 0s 24ms/step - loss: 0.0119 - val_loss: 0.0159\n",
            "Epoch 65/80\n",
            "3/3 [==============================] - 0s 16ms/step - loss: 0.0113 - val_loss: 0.0160\n",
            "Epoch 66/80\n",
            "3/3 [==============================] - 0s 26ms/step - loss: 0.0111 - val_loss: 0.0160\n",
            "Epoch 67/80\n",
            "3/3 [==============================] - 0s 16ms/step - loss: 0.0112 - val_loss: 0.0161\n",
            "Epoch 68/80\n",
            "3/3 [==============================] - 0s 17ms/step - loss: 0.0113 - val_loss: 0.0157\n",
            "Epoch 69/80\n",
            "3/3 [==============================] - 0s 25ms/step - loss: 0.0114 - val_loss: 0.0156\n",
            "Epoch 70/80\n",
            "3/3 [==============================] - 0s 25ms/step - loss: 0.0106 - val_loss: 0.0162\n",
            "Epoch 71/80\n",
            "3/3 [==============================] - 0s 16ms/step - loss: 0.0121 - val_loss: 0.0159\n",
            "Epoch 72/80\n",
            "3/3 [==============================] - 0s 26ms/step - loss: 0.0110 - val_loss: 0.0155\n",
            "Epoch 73/80\n",
            "3/3 [==============================] - 0s 19ms/step - loss: 0.0119 - val_loss: 0.0156\n",
            "Epoch 74/80\n",
            "3/3 [==============================] - 0s 17ms/step - loss: 0.0106 - val_loss: 0.0162\n",
            "Epoch 75/80\n",
            "3/3 [==============================] - 0s 25ms/step - loss: 0.0108 - val_loss: 0.0157\n",
            "Epoch 76/80\n",
            "3/3 [==============================] - 0s 24ms/step - loss: 0.0118 - val_loss: 0.0151\n",
            "Epoch 77/80\n",
            "3/3 [==============================] - 0s 23ms/step - loss: 0.0111 - val_loss: 0.0151\n",
            "Epoch 78/80\n",
            "3/3 [==============================] - 0s 15ms/step - loss: 0.0113 - val_loss: 0.0151\n",
            "Epoch 79/80\n",
            "3/3 [==============================] - 0s 15ms/step - loss: 0.0106 - val_loss: 0.0155\n",
            "Epoch 80/80\n",
            "3/3 [==============================] - 0s 15ms/step - loss: 0.0114 - val_loss: 0.0152\n"
          ]
        }
      ]
    },
    {
      "cell_type": "code",
      "source": [
        "plt.plot(r.history['loss'],label='loss')\n",
        "plt.plot(r.history['val_loss'],label='val_loss')\n",
        "plt.legend()"
      ],
      "metadata": {
        "colab": {
          "base_uri": "https://localhost:8080/",
          "height": 282
        },
        "id": "Ymx4n55K0Sjl",
        "outputId": "5fc7128e-c8c3-4a53-c140-58f559c72ba4"
      },
      "execution_count": 15,
      "outputs": [
        {
          "output_type": "execute_result",
          "data": {
            "text/plain": [
              "<matplotlib.legend.Legend at 0x7f70ed220220>"
            ]
          },
          "metadata": {},
          "execution_count": 15
        },
        {
          "output_type": "display_data",
          "data": {
            "text/plain": [
              "<Figure size 432x288 with 1 Axes>"
            ],
            "image/png": "[encoded data removed]"
          },
          "metadata": {
            "needs_background": "light"
          }
        }
      ]
    },
    {
      "cell_type": "code",
      "source": [
        "\n",
        "validation_target= Y[-N//2:]\n",
        "validation_predictions=[]\n",
        "\n",
        "last_x=X[-N//2]\n",
        "\n",
        "while(len(validation_predictions)<len(validation_target)):\n",
        "  p=model.predict(last_x.reshape(1,-1))[0,0]\n",
        "  validation_predictions.append(p)\n",
        "\n",
        "  last_x=np.roll(last_x,-1)\n",
        "  last_x[-1]=p"
      ],
      "metadata": {
        "colab": {
          "base_uri": "https://localhost:8080/"
        },
        "id": "knGiNS3Z2DCr",
        "outputId": "724dfb7d-154f-4bde-842f-56886343896f"
      },
      "execution_count": 16,
      "outputs": [
        {
          "output_type": "stream",
          "name": "stdout",
          "text": [
            "1/1 [==============================] - 0s 41ms/step\n",
            "1/1 [==============================] - 0s 19ms/step\n",
            "1/1 [==============================] - 0s 18ms/step\n",
            "1/1 [==============================] - 0s 17ms/step\n",
            "1/1 [==============================] - 0s 23ms/step\n",
            "1/1 [==============================] - 0s 18ms/step\n",
            "1/1 [==============================] - 0s 17ms/step\n",
            "1/1 [==============================] - 0s 19ms/step\n",
            "1/1 [==============================] - 0s 22ms/step\n",
            "1/1 [==============================] - 0s 20ms/step\n",
            "1/1 [==============================] - 0s 18ms/step\n",
            "1/1 [==============================] - 0s 29ms/step\n",
            "1/1 [==============================] - 0s 18ms/step\n",
            "1/1 [==============================] - 0s 17ms/step\n",
            "1/1 [==============================] - 0s 18ms/step\n",
            "1/1 [==============================] - 0s 20ms/step\n",
            "1/1 [==============================] - 0s 18ms/step\n",
            "1/1 [==============================] - 0s 19ms/step\n",
            "1/1 [==============================] - 0s 17ms/step\n",
            "1/1 [==============================] - 0s 17ms/step\n",
            "1/1 [==============================] - 0s 22ms/step\n",
            "1/1 [==============================] - 0s 19ms/step\n",
            "1/1 [==============================] - 0s 17ms/step\n",
            "1/1 [==============================] - 0s 19ms/step\n",
            "1/1 [==============================] - 0s 19ms/step\n",
            "1/1 [==============================] - 0s 24ms/step\n",
            "1/1 [==============================] - 0s 23ms/step\n",
            "1/1 [==============================] - 0s 19ms/step\n",
            "1/1 [==============================] - 0s 16ms/step\n",
            "1/1 [==============================] - 0s 18ms/step\n",
            "1/1 [==============================] - 0s 18ms/step\n",
            "1/1 [==============================] - 0s 18ms/step\n",
            "1/1 [==============================] - 0s 21ms/step\n",
            "1/1 [==============================] - 0s 18ms/step\n",
            "1/1 [==============================] - 0s 18ms/step\n",
            "1/1 [==============================] - 0s 19ms/step\n",
            "1/1 [==============================] - 0s 18ms/step\n",
            "1/1 [==============================] - 0s 28ms/step\n",
            "1/1 [==============================] - 0s 18ms/step\n",
            "1/1 [==============================] - 0s 18ms/step\n",
            "1/1 [==============================] - 0s 22ms/step\n",
            "1/1 [==============================] - 0s 22ms/step\n",
            "1/1 [==============================] - 0s 19ms/step\n",
            "1/1 [==============================] - 0s 19ms/step\n",
            "1/1 [==============================] - 0s 22ms/step\n",
            "1/1 [==============================] - 0s 18ms/step\n",
            "1/1 [==============================] - 0s 17ms/step\n",
            "1/1 [==============================] - 0s 18ms/step\n",
            "1/1 [==============================] - 0s 17ms/step\n",
            "1/1 [==============================] - 0s 17ms/step\n",
            "1/1 [==============================] - 0s 19ms/step\n",
            "1/1 [==============================] - 0s 19ms/step\n",
            "1/1 [==============================] - 0s 19ms/step\n",
            "1/1 [==============================] - 0s 19ms/step\n",
            "1/1 [==============================] - 0s 18ms/step\n",
            "1/1 [==============================] - 0s 18ms/step\n",
            "1/1 [==============================] - 0s 17ms/step\n",
            "1/1 [==============================] - 0s 19ms/step\n",
            "1/1 [==============================] - 0s 20ms/step\n",
            "1/1 [==============================] - 0s 17ms/step\n",
            "1/1 [==============================] - 0s 19ms/step\n",
            "1/1 [==============================] - 0s 20ms/step\n",
            "1/1 [==============================] - 0s 20ms/step\n",
            "1/1 [==============================] - 0s 20ms/step\n",
            "1/1 [==============================] - 0s 18ms/step\n",
            "1/1 [==============================] - 0s 18ms/step\n",
            "1/1 [==============================] - 0s 17ms/step\n",
            "1/1 [==============================] - 0s 17ms/step\n",
            "1/1 [==============================] - 0s 20ms/step\n",
            "1/1 [==============================] - 0s 19ms/step\n",
            "1/1 [==============================] - 0s 23ms/step\n",
            "1/1 [==============================] - 0s 22ms/step\n",
            "1/1 [==============================] - 0s 18ms/step\n",
            "1/1 [==============================] - 0s 18ms/step\n",
            "1/1 [==============================] - 0s 18ms/step\n",
            "1/1 [==============================] - 0s 23ms/step\n",
            "1/1 [==============================] - 0s 19ms/step\n",
            "1/1 [==============================] - 0s 18ms/step\n",
            "1/1 [==============================] - 0s 17ms/step\n",
            "1/1 [==============================] - 0s 18ms/step\n",
            "1/1 [==============================] - 0s 18ms/step\n",
            "1/1 [==============================] - 0s 21ms/step\n",
            "1/1 [==============================] - 0s 18ms/step\n",
            "1/1 [==============================] - 0s 18ms/step\n",
            "1/1 [==============================] - 0s 17ms/step\n",
            "1/1 [==============================] - 0s 17ms/step\n",
            "1/1 [==============================] - 0s 29ms/step\n",
            "1/1 [==============================] - 0s 24ms/step\n",
            "1/1 [==============================] - 0s 19ms/step\n",
            "1/1 [==============================] - 0s 18ms/step\n",
            "1/1 [==============================] - 0s 21ms/step\n",
            "1/1 [==============================] - 0s 23ms/step\n",
            "1/1 [==============================] - 0s 19ms/step\n",
            "1/1 [==============================] - 0s 19ms/step\n",
            "1/1 [==============================] - 0s 28ms/step\n"
          ]
        }
      ]
    },
    {
      "cell_type": "code",
      "source": [
        "plt.plot(validation_target,label='forecast_target')\n",
        "plt.plot(validation_predictions,label='forecast_predictions')\n",
        "plt.legend()"
      ],
      "metadata": {
        "colab": {
          "base_uri": "https://localhost:8080/",
          "height": 282
        },
        "id": "ZhZygAox2h3n",
        "outputId": "26bf585a-1e90-4f38-da89-6a7dd9b9d8a8"
      },
      "execution_count": 17,
      "outputs": [
        {
          "output_type": "execute_result",
          "data": {
            "text/plain": [
              "<matplotlib.legend.Legend at 0x7f70ed0a34f0>"
            ]
          },
          "metadata": {},
          "execution_count": 17
        },
        {
          "output_type": "display_data",
          "data": {
            "text/plain": [
              "<Figure size 432x288 with 1 Axes>"
            ],
            "image/png": "[encoded data removed]"
          },
          "metadata": {
            "needs_background": "light"
          }
        }
      ]
    }
  ]
}