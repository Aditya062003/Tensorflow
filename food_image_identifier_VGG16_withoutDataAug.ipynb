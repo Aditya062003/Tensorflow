{
  "nbformat": 4,
  "nbformat_minor": 0,
  "metadata": {
    "colab": {
      "provenance": []
    },
    "kernelspec": {
      "name": "python3",
      "display_name": "Python 3"
    },
    "language_info": {
      "name": "python"
    },
    "accelerator": "GPU",
    "gpuClass": "standard"
  },
  "cells": [
    {
      "cell_type": "code",
      "execution_count": 2,
      "metadata": {
        "id": "lsbE9pGxnimb"
      },
      "outputs": [],
      "source": [
        "from tensorflow.keras.layers import Input,Dense,Flatten\n",
        "from tensorflow.keras.applications.vgg16 import VGG16 as pretrainedModel\n",
        "from tensorflow.keras.applications.vgg16 import preprocess_input as preprocess_input\n",
        "from tensorflow.keras.models import Model\n",
        "from tensorflow.keras.optimizers import SGD,Adam\n",
        "from tensorflow.keras.preprocessing import image\n",
        "from tensorflow.keras.preprocessing.image import ImageDataGenerator\n",
        "\n",
        "from glob import glob\n",
        "import numpy as np\n",
        "import pandas as pd\n",
        "import matplotlib.pyplot as plt"
      ]
    },
    {
      "cell_type": "code",
      "source": [
        "!mkdir -p ~/.kaggle\n",
        "!cp kaggle.json ~/.kaggle/"
      ],
      "metadata": {
        "id": "D8Z20XJDnxyL"
      },
      "execution_count": 3,
      "outputs": []
    },
    {
      "cell_type": "code",
      "source": [
        "!kaggle datasets download -d trolukovich/food5k-image-dataset"
      ],
      "metadata": {
        "colab": {
          "base_uri": "https://localhost:8080/"
        },
        "id": "xUJSlFAAnyof",
        "outputId": "9914d554-3f2f-4d38-c9a7-2b70c4a88fe1"
      },
      "execution_count": 4,
      "outputs": [
        {
          "output_type": "stream",
          "name": "stdout",
          "text": [
            "Warning: Your Kaggle API key is readable by other users on this system! To fix this, you can run 'chmod 600 /root/.kaggle/kaggle.json'\n",
            "Downloading food5k-image-dataset.zip to /content\n",
            " 99% 423M/426M [00:02<00:00, 190MB/s]\n",
            "100% 426M/426M [00:02<00:00, 190MB/s]\n"
          ]
        }
      ]
    },
    {
      "cell_type": "code",
      "source": [
        "!unzip -qq -o food5k-image-dataset.zip"
      ],
      "metadata": {
        "id": "2g8-hhrmn27H"
      },
      "execution_count": 5,
      "outputs": []
    },
    {
      "cell_type": "code",
      "source": [
        "IMAGE_SIZE=[200,200]\n",
        "batch_size=128\n",
        "train_path='/content/training'\n",
        "valid_path='/content/validation'\n",
        "image_files=glob(train_path+'/*/*.jpg')\n",
        "valid_image_files=glob(valid_path+'/*/*.jpg')\n",
        "folders=['training/food','training/non_food']"
      ],
      "metadata": {
        "id": "IgT_PSdwoErZ"
      },
      "execution_count": 6,
      "outputs": []
    },
    {
      "cell_type": "code",
      "source": [
        "ptm=pretrainedModel(input_shape=IMAGE_SIZE+[3],include_top=False,weights='imagenet')\n",
        "x=Flatten()(ptm.output)"
      ],
      "metadata": {
        "colab": {
          "base_uri": "https://localhost:8080/"
        },
        "id": "lckCK86CoZbQ",
        "outputId": "91161645-f2de-452d-8aef-b268d79a8d8c"
      },
      "execution_count": 7,
      "outputs": [
        {
          "output_type": "stream",
          "name": "stdout",
          "text": [
            "Downloading data from https://storage.googleapis.com/tensorflow/keras-applications/vgg16/vgg16_weights_tf_dim_ordering_tf_kernels_notop.h5\n",
            "58889256/58889256 [==============================] - 0s 0us/step\n"
          ]
        }
      ]
    },
    {
      "cell_type": "code",
      "source": [
        "model=Model(inputs=ptm.input,outputs=x)"
      ],
      "metadata": {
        "id": "MGJwc9gcomf_"
      },
      "execution_count": 8,
      "outputs": []
    },
    {
      "cell_type": "code",
      "source": [
        "ptm.input.shape"
      ],
      "metadata": {
        "colab": {
          "base_uri": "https://localhost:8080/"
        },
        "id": "L8zYSW2WueUF",
        "outputId": "98a444f5-9dd8-457f-a4b8-7d88067e6117"
      },
      "execution_count": 9,
      "outputs": [
        {
          "output_type": "execute_result",
          "data": {
            "text/plain": [
              "TensorShape([None, 200, 200, 3])"
            ]
          },
          "metadata": {},
          "execution_count": 9
        }
      ]
    },
    {
      "cell_type": "code",
      "source": [
        "model.summary()"
      ],
      "metadata": {
        "colab": {
          "base_uri": "https://localhost:8080/"
        },
        "id": "mfqkv9hdooJK",
        "outputId": "f60cdfd9-9a6a-46c6-def0-65d700177527"
      },
      "execution_count": 10,
      "outputs": [
        {
          "output_type": "stream",
          "name": "stdout",
          "text": [
            "Model: \"model\"\n",
            "_________________________________________________________________\n",
            " Layer (type)                Output Shape              Param #   \n",
            "=================================================================\n",
            " input_1 (InputLayer)        [(None, 200, 200, 3)]     0         \n",
            "                                                                 \n",
            " block1_conv1 (Conv2D)       (None, 200, 200, 64)      1792      \n",
            "                                                                 \n",
            " block1_conv2 (Conv2D)       (None, 200, 200, 64)      36928     \n",
            "                                                                 \n",
            " block1_pool (MaxPooling2D)  (None, 100, 100, 64)      0         \n",
            "                                                                 \n",
            " block2_conv1 (Conv2D)       (None, 100, 100, 128)     73856     \n",
            "                                                                 \n",
            " block2_conv2 (Conv2D)       (None, 100, 100, 128)     147584    \n",
            "                                                                 \n",
            " block2_pool (MaxPooling2D)  (None, 50, 50, 128)       0         \n",
            "                                                                 \n",
            " block3_conv1 (Conv2D)       (None, 50, 50, 256)       295168    \n",
            "                                                                 \n",
            " block3_conv2 (Conv2D)       (None, 50, 50, 256)       590080    \n",
            "                                                                 \n",
            " block3_conv3 (Conv2D)       (None, 50, 50, 256)       590080    \n",
            "                                                                 \n",
            " block3_pool (MaxPooling2D)  (None, 25, 25, 256)       0         \n",
            "                                                                 \n",
            " block4_conv1 (Conv2D)       (None, 25, 25, 512)       1180160   \n",
            "                                                                 \n",
            " block4_conv2 (Conv2D)       (None, 25, 25, 512)       2359808   \n",
            "                                                                 \n",
            " block4_conv3 (Conv2D)       (None, 25, 25, 512)       2359808   \n",
            "                                                                 \n",
            " block4_pool (MaxPooling2D)  (None, 12, 12, 512)       0         \n",
            "                                                                 \n",
            " block5_conv1 (Conv2D)       (None, 12, 12, 512)       2359808   \n",
            "                                                                 \n",
            " block5_conv2 (Conv2D)       (None, 12, 12, 512)       2359808   \n",
            "                                                                 \n",
            " block5_conv3 (Conv2D)       (None, 12, 12, 512)       2359808   \n",
            "                                                                 \n",
            " block5_pool (MaxPooling2D)  (None, 6, 6, 512)         0         \n",
            "                                                                 \n",
            " flatten (Flatten)           (None, 18432)             0         \n",
            "                                                                 \n",
            "=================================================================\n",
            "Total params: 14,714,688\n",
            "Trainable params: 14,714,688\n",
            "Non-trainable params: 0\n",
            "_________________________________________________________________\n"
          ]
        }
      ]
    },
    {
      "cell_type": "code",
      "source": [
        "gen=ImageDataGenerator(preprocessing_function=preprocess_input)"
      ],
      "metadata": {
        "id": "Yk1X_Byco3FX"
      },
      "execution_count": 11,
      "outputs": []
    },
    {
      "cell_type": "code",
      "source": [
        "batch_size=128\n",
        "\n",
        "train_generator=gen.flow_from_directory(\n",
        "    train_path,shuffle=True,target_size=IMAGE_SIZE,batch_size=batch_size,class_mode='binary'\n",
        ")\n",
        "\n",
        "valid_generator=gen.flow_from_directory(\n",
        "    valid_path,target_size=IMAGE_SIZE,batch_size=batch_size,class_mode='binary'\n",
        ")"
      ],
      "metadata": {
        "colab": {
          "base_uri": "https://localhost:8080/"
        },
        "id": "HT5hV-xxryxv",
        "outputId": "a1d854f5-38c5-4b1b-d93a-6da9dd929c67"
      },
      "execution_count": 12,
      "outputs": [
        {
          "output_type": "stream",
          "name": "stdout",
          "text": [
            "Found 3000 images belonging to 2 classes.\n",
            "Found 1000 images belonging to 2 classes.\n"
          ]
        }
      ]
    },
    {
      "cell_type": "code",
      "source": [
        "Ntrain=len(image_files)\n",
        "Nvalid=len(valid_image_files)\n",
        "\n",
        "feat=model.predict(np.random.random([1]+IMAGE_SIZE+[3]))\n",
        "D=feat.shape[1]\n",
        "\n",
        "X_train=np.zeros((Ntrain,D))\n",
        "y_train=np.zeros((Ntrain))\n",
        "X_valid=np.zeros((Nvalid,D))\n",
        "y_valid=np.zeros((Nvalid))"
      ],
      "metadata": {
        "colab": {
          "base_uri": "https://localhost:8080/"
        },
        "id": "5GZT6TavtGGB",
        "outputId": "ab2aad6a-6cf0-4b16-a907-9dee3a7d7a3f"
      },
      "execution_count": 27,
      "outputs": [
        {
          "output_type": "stream",
          "name": "stdout",
          "text": [
            "1/1 [==============================] - 0s 34ms/step\n"
          ]
        }
      ]
    },
    {
      "cell_type": "code",
      "source": [
        "i=0\n",
        "for x,y in train_generator:\n",
        "  features=model.predict(x)\n",
        "  sz=len(y)  #size of batch(size of last batch may be diffrent)\n",
        "  X_train[i:i+sz]=features\n",
        "  y_train[i:i+sz]=y\n",
        "  i+=sz\n",
        "  print(i)\n",
        "  if(i>=Ntrain):\n",
        "    print('break')\n",
        "    break\n",
        "print(i)"
      ],
      "metadata": {
        "colab": {
          "base_uri": "https://localhost:8080/"
        },
        "id": "cHH44xPkuRJN",
        "outputId": "bff94419-d0be-43ea-db85-55d2a277c364"
      },
      "execution_count": 28,
      "outputs": [
        {
          "output_type": "stream",
          "name": "stdout",
          "text": [
            "4/4 [==============================] - 0s 115ms/step\n",
            "128\n",
            "4/4 [==============================] - 0s 97ms/step\n",
            "256\n",
            "4/4 [==============================] - 0s 99ms/step\n",
            "384\n",
            "4/4 [==============================] - 0s 121ms/step\n",
            "512\n",
            "4/4 [==============================] - 0s 116ms/step\n",
            "640\n",
            "4/4 [==============================] - 0s 115ms/step\n",
            "768\n",
            "4/4 [==============================] - 0s 98ms/step\n",
            "896\n",
            "4/4 [==============================] - 0s 98ms/step\n",
            "1024\n",
            "4/4 [==============================] - 0s 99ms/step\n",
            "1152\n",
            "4/4 [==============================] - 0s 98ms/step\n",
            "1280\n",
            "4/4 [==============================] - 0s 98ms/step\n",
            "1408\n",
            "4/4 [==============================] - 0s 98ms/step\n",
            "1536\n",
            "4/4 [==============================] - 0s 100ms/step\n",
            "1664\n",
            "2/2 [==============================] - 0s 94ms/step\n",
            "1720\n",
            "4/4 [==============================] - 0s 99ms/step\n",
            "1848\n",
            "4/4 [==============================] - 0s 100ms/step\n",
            "1976\n",
            "4/4 [==============================] - 0s 99ms/step\n",
            "2104\n",
            "4/4 [==============================] - 0s 97ms/step\n",
            "2232\n",
            "4/4 [==============================] - 0s 99ms/step\n",
            "2360\n",
            "4/4 [==============================] - 0s 100ms/step\n",
            "2488\n",
            "4/4 [==============================] - 0s 99ms/step\n",
            "2616\n",
            "4/4 [==============================] - 0s 99ms/step\n",
            "2744\n",
            "4/4 [==============================] - 0s 99ms/step\n",
            "2872\n",
            "4/4 [==============================] - 0s 99ms/step\n",
            "3000\n",
            "break\n",
            "3000\n"
          ]
        }
      ]
    },
    {
      "cell_type": "code",
      "source": [
        "i=0\n",
        "for x,y in valid_generator:\n",
        "  features=model.predict(x)\n",
        "  sz=len(y)  #size of batch(size of last batch may be diffrent)\n",
        "  X_valid[i:i+sz]=features\n",
        "  y_valid[i:i+sz]=y\n",
        "  i+=sz\n",
        "  print(i)\n",
        "  if(i>=Nvalid):\n",
        "    print('break')\n",
        "    break\n",
        "print(i)"
      ],
      "metadata": {
        "colab": {
          "base_uri": "https://localhost:8080/"
        },
        "id": "jQkGmplY3Ch1",
        "outputId": "96ae91ec-ebcf-4a0a-92f0-cbe1c9aa87ea"
      },
      "execution_count": 29,
      "outputs": [
        {
          "output_type": "stream",
          "name": "stdout",
          "text": [
            "4/4 [==============================] - 0s 100ms/step\n",
            "128\n",
            "4/4 [==============================] - 0s 99ms/step\n",
            "256\n",
            "4/4 [==============================] - 0s 100ms/step\n",
            "384\n",
            "4/4 [==============================] - 0s 99ms/step\n",
            "512\n",
            "4/4 [==============================] - 0s 100ms/step\n",
            "640\n",
            "4/4 [==============================] - 0s 100ms/step\n",
            "768\n",
            "4/4 [==============================] - 0s 100ms/step\n",
            "896\n",
            "4/4 [==============================] - 0s 99ms/step\n",
            "1000\n",
            "break\n",
            "1000\n"
          ]
        }
      ]
    },
    {
      "cell_type": "code",
      "source": [
        "from sklearn.preprocessing import StandardScaler\n",
        "\n",
        "scaler=StandardScaler()\n",
        "\n",
        "X_train2=scaler.fit_transform(X_train)\n",
        "X_valid2=scaler.transform(X_valid)"
      ],
      "metadata": {
        "id": "UlBHxGEX5IKt"
      },
      "execution_count": 30,
      "outputs": []
    },
    {
      "cell_type": "code",
      "source": [
        "from sklearn.linear_model import LogisticRegression\n",
        "logr=LogisticRegression()\n",
        "logr.fit(X_train2,y_train)\n",
        "print(logr.score(X_train2,y_train))\n",
        "print(logr.score(X_valid2,y_valid))"
      ],
      "metadata": {
        "colab": {
          "base_uri": "https://localhost:8080/"
        },
        "id": "vPS4sXbM72yC",
        "outputId": "0dff2816-5643-4095-ee05-5b8e9b85de0c"
      },
      "execution_count": 31,
      "outputs": [
        {
          "output_type": "stream",
          "name": "stdout",
          "text": [
            "1.0\n",
            "0.984\n"
          ]
        }
      ]
    },
    {
      "cell_type": "code",
      "source": [
        "# logistic regressiom in tensorflow\n",
        "\n",
        "i=Input(shape=(D,))\n",
        "x=Dense(1,activation='sigmoid')(i)\n",
        "linear_model=Model(i,x)"
      ],
      "metadata": {
        "id": "XkDFmllWALtW"
      },
      "execution_count": 33,
      "outputs": []
    },
    {
      "cell_type": "code",
      "source": [
        "linear_model.compile(\n",
        "    loss='binary_crossentropy',\n",
        "    optimizer='adam',\n",
        "    metrics=['accuracy']\n",
        ")"
      ],
      "metadata": {
        "id": "jHd4i4sYAaOT"
      },
      "execution_count": 35,
      "outputs": []
    },
    {
      "cell_type": "code",
      "source": [
        "r=linear_model.fit(X_train,y_train,batch_size=128,epochs=10,validation_data=(X_valid,y_valid))"
      ],
      "metadata": {
        "colab": {
          "base_uri": "https://localhost:8080/"
        },
        "id": "L0FMqRF_Ax_G",
        "outputId": "28825c83-8895-41dd-d16f-72f1c81ebad3"
      },
      "execution_count": 36,
      "outputs": [
        {
          "output_type": "stream",
          "name": "stdout",
          "text": [
            "Epoch 1/10\n",
            "24/24 [==============================] - 2s 34ms/step - loss: 0.5117 - accuracy: 0.9550 - val_loss: 0.2770 - val_accuracy: 0.9810\n",
            "Epoch 2/10\n",
            "24/24 [==============================] - 0s 9ms/step - loss: 0.0593 - accuracy: 0.9957 - val_loss: 0.2329 - val_accuracy: 0.9780\n",
            "Epoch 3/10\n",
            "24/24 [==============================] - 0s 10ms/step - loss: 0.0090 - accuracy: 0.9983 - val_loss: 0.1962 - val_accuracy: 0.9850\n",
            "Epoch 4/10\n",
            "24/24 [==============================] - 0s 13ms/step - loss: 4.3308e-05 - accuracy: 1.0000 - val_loss: 0.1956 - val_accuracy: 0.9830\n",
            "Epoch 5/10\n",
            "24/24 [==============================] - 0s 14ms/step - loss: 9.3171e-06 - accuracy: 1.0000 - val_loss: 0.1945 - val_accuracy: 0.9830\n",
            "Epoch 6/10\n",
            "24/24 [==============================] - 0s 17ms/step - loss: 4.3792e-06 - accuracy: 1.0000 - val_loss: 0.1935 - val_accuracy: 0.9830\n",
            "Epoch 7/10\n",
            "24/24 [==============================] - 0s 13ms/step - loss: 2.9680e-06 - accuracy: 1.0000 - val_loss: 0.1927 - val_accuracy: 0.9830\n",
            "Epoch 8/10\n",
            "24/24 [==============================] - 0s 13ms/step - loss: 2.2018e-06 - accuracy: 1.0000 - val_loss: 0.1922 - val_accuracy: 0.9830\n",
            "Epoch 9/10\n",
            "24/24 [==============================] - 0s 13ms/step - loss: 1.8210e-06 - accuracy: 1.0000 - val_loss: 0.1918 - val_accuracy: 0.9830\n",
            "Epoch 10/10\n",
            "24/24 [==============================] - 0s 16ms/step - loss: 1.5792e-06 - accuracy: 1.0000 - val_loss: 0.1914 - val_accuracy: 0.9830\n"
          ]
        }
      ]
    },
    {
      "cell_type": "code",
      "source": [
        "plt.plot(r.history['accuracy'],label='teain_acc')\n",
        "plt.plot(r.history['val_accuracy'],label='val_acc')\n",
        "plt.legend()\n",
        "plt.show()"
      ],
      "metadata": {
        "colab": {
          "base_uri": "https://localhost:8080/",
          "height": 265
        },
        "id": "0_GyuF_lBMmx",
        "outputId": "135084c5-d14a-4112-fab5-ee6c711c9d74"
      },
      "execution_count": 37,
      "outputs": [
        {
          "output_type": "display_data",
          "data": {
            "text/plain": [
              "<Figure size 432x288 with 1 Axes>"
            ],
            "image/png": "[encoded data removed]"
          },
          "metadata": {
            "needs_background": "light"
          }
        }
      ]
    },
    {
      "cell_type": "code",
      "source": [
        "plt.plot(r.history['loss'],label='teain_loss')\n",
        "plt.plot(r.history['val_loss'],label='val_loss')\n",
        "plt.legend()\n",
        "plt.show()"
      ],
      "metadata": {
        "colab": {
          "base_uri": "https://localhost:8080/",
          "height": 265
        },
        "id": "nimxRURtBOcg",
        "outputId": "e5c2f9c4-2bc0-437f-9950-a85cb24ba622"
      },
      "execution_count": 38,
      "outputs": [
        {
          "output_type": "display_data",
          "data": {
            "text/plain": [
              "<Figure size 432x288 with 1 Axes>"
            ],
            "image/png": "[encoded data removed]"
          },
          "metadata": {
            "needs_background": "light"
          }
        }
      ]
    }
  ]
}