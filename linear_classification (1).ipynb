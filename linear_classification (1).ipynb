{
  "nbformat": 4,
  "nbformat_minor": 0,
  "metadata": {
    "colab": {
      "provenance": []
    },
    "kernelspec": {
      "name": "python3",
      "display_name": "Python 3"
    },
    "language_info": {
      "name": "python"
    }
  },
  "cells": [
    {
      "cell_type": "code",
      "execution_count": null,
      "metadata": {
        "id": "gn8opGiMiNvk"
      },
      "outputs": [],
      "source": [
        "# classification notebook\n",
        "\n",
        "from scipy.ndimage import label\n",
        "import tensorflow as tf\n",
        "from sklearn.datasets import load_breast_cancer\n",
        "from sklearn.model_selection import train_test_split\n",
        "from sklearn.preprocessing import StandardScaler\n",
        "import matplotlib.pyplot as plt\n",
        "\n",
        "data=load_breast_cancer()\n",
        "X_train,X_test,y_train,y_test = train_test_split(data.data,data.target,test_size=0.33)\n",
        "N,D=X_train.shape\n",
        "scaler = StandardScaler()\n",
        "X_train = scaler.fit_transform(X_train)\n",
        "X_test = scaler.transform(X_test)\n",
        "model = tf.keras.models.Sequential([\n",
        "    tf.keras.layers.Input(shape=(D,)),\n",
        "    tf.keras.layers.Dense(1,activation='sigmoid')\n",
        "])\n",
        "model.compile(optimizer='adam',loss='binary_crossentropy',metrics=['accuracy'])\n",
        "\n",
        "r=model.fit(X_train,y_train,validation_data=(X_test,y_test),epochs=175)\n",
        "\n",
        "print(\"train score:\",model.evaluate(X_train,y_train))\n",
        "print(\"test score:\",model.evaluate(X_test,y_test))\n",
        "\n",
        "plt.plot(r.history['loss'],label='loss')\n",
        "plt.plot(r.history['val_loss'],label='val_loss')\n",
        "plt.legend()\n",
        "\n",
        "plt.plot(r.history['accuracy'],label='loss')\n",
        "plt.plot(r.history['val_accuracy'],label='val_loss')\n",
        "plt.legend()\n",
        "\n",
        "\n",
        "# Alternative\n",
        "# model = tf.keras.models.Sequential()\n",
        "# model.add(tf.keras.layers.Dense(1,input_shape=(D,),activation='sigmoid'))\n",
        "# data.keys()\n",
        "\n",
        "P=model.predict(X_test)\n",
        "P=np.round(P).flatten()\n",
        "print(P)\n",
        "print(\"Evaluated model\",model.evaluate(X_test,y_test))"
      ]
    }
  ]
}