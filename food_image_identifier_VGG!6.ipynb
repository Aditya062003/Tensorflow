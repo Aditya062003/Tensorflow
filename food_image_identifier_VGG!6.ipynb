{
  "nbformat": 4,
  "nbformat_minor": 0,
  "metadata": {
    "colab": {
      "provenance": []
    },
    "kernelspec": {
      "name": "python3",
      "display_name": "Python 3"
    },
    "language_info": {
      "name": "python"
    },
    "accelerator": "GPU",
    "gpuClass": "standard"
  },
  "cells": [
    {
      "cell_type": "code",
      "execution_count": 48,
      "metadata": {
        "id": "96Adbkb9B0_J"
      },
      "outputs": [],
      "source": [
        "from tensorflow.keras.layers import Input,Dense,Flatten\n",
        "from tensorflow.keras.applications.vgg16 import VGG16 as pretrainedModel\n",
        "from tensorflow.keras.applications.vgg16 import preprocess_input as preprocess_input\n",
        "from tensorflow.keras.models import Model\n",
        "from tensorflow.keras.optimizers import SGD,Adam\n",
        "from tensorflow.keras.preprocessing import image\n",
        "from tensorflow.keras.preprocessing.image import ImageDataGenerator\n",
        "\n",
        "from glob import glob\n",
        "import numpy as np\n",
        "import pandas as pd\n",
        "import matplotlib.pyplot as plt\n",
        "import sys , os \n"
      ]
    },
    {
      "cell_type": "code",
      "source": [
        "!mkdir -p ~/.kaggle\n",
        "!cp kaggle.json ~/.kaggle/"
      ],
      "metadata": {
        "id": "cjiEGYP5GU6X"
      },
      "execution_count": 25,
      "outputs": []
    },
    {
      "cell_type": "code",
      "source": [
        "!kaggle datasets download -d trolukovich/food5k-image-dataset"
      ],
      "metadata": {
        "colab": {
          "base_uri": "https://localhost:8080/"
        },
        "id": "ylWVtUS_E4h9",
        "outputId": "8c3cd4c1-c455-4590-b959-877be5b14a1e"
      },
      "execution_count": 26,
      "outputs": [
        {
          "output_type": "stream",
          "name": "stdout",
          "text": [
            "Warning: Your Kaggle API key is readable by other users on this system! To fix this, you can run 'chmod 600 /root/.kaggle/kaggle.json'\n",
            "food5k-image-dataset.zip: Skipping, found more recently modified local copy (use --force to force download)\n"
          ]
        }
      ]
    },
    {
      "cell_type": "code",
      "source": [
        "!unzip -qq -o food5k-image-dataset.zip"
      ],
      "metadata": {
        "id": "KsUkK8WIGjco"
      },
      "execution_count": 27,
      "outputs": []
    },
    {
      "cell_type": "code",
      "source": [
        "IMAGE_SIZE=[200,200]"
      ],
      "metadata": {
        "id": "Lo-CovIuHT3s"
      },
      "execution_count": 28,
      "outputs": []
    },
    {
      "cell_type": "code",
      "source": [
        "ptm=pretrainedModel(input_shape=IMAGE_SIZE+[3],include_top=False,weights='imagenet')"
      ],
      "metadata": {
        "id": "-A_pwnBJHnHx"
      },
      "execution_count": 29,
      "outputs": []
    },
    {
      "cell_type": "code",
      "source": [
        "ptm.trainable=False"
      ],
      "metadata": {
        "id": "JApJxpjVIAxe"
      },
      "execution_count": 17,
      "outputs": []
    },
    {
      "cell_type": "code",
      "source": [
        "folders=['training/food','training/non_food']\n",
        "K=len(folders)\n",
        "x=Flatten()(ptm.output)\n",
        "x=Dense(K,activation='softmax')(x)"
      ],
      "metadata": {
        "id": "d_AV5cp3IQS-"
      },
      "execution_count": 18,
      "outputs": []
    },
    {
      "cell_type": "code",
      "source": [
        "model=Model(inputs=ptm.input,outputs=x)"
      ],
      "metadata": {
        "id": "O4VhNZ8MI_zg"
      },
      "execution_count": 19,
      "outputs": []
    },
    {
      "cell_type": "code",
      "source": [
        "model.summary()"
      ],
      "metadata": {
        "colab": {
          "base_uri": "https://localhost:8080/"
        },
        "id": "u156evcMJUy0",
        "outputId": "e3c60225-2990-455a-ce97-561036f6ade1"
      },
      "execution_count": 20,
      "outputs": [
        {
          "output_type": "stream",
          "name": "stdout",
          "text": [
            "Model: \"model_1\"\n",
            "_________________________________________________________________\n",
            " Layer (type)                Output Shape              Param #   \n",
            "=================================================================\n",
            " input_2 (InputLayer)        [(None, 200, 200, 3)]     0         \n",
            "                                                                 \n",
            " block1_conv1 (Conv2D)       (None, 200, 200, 64)      1792      \n",
            "                                                                 \n",
            " block1_conv2 (Conv2D)       (None, 200, 200, 64)      36928     \n",
            "                                                                 \n",
            " block1_pool (MaxPooling2D)  (None, 100, 100, 64)      0         \n",
            "                                                                 \n",
            " block2_conv1 (Conv2D)       (None, 100, 100, 128)     73856     \n",
            "                                                                 \n",
            " block2_conv2 (Conv2D)       (None, 100, 100, 128)     147584    \n",
            "                                                                 \n",
            " block2_pool (MaxPooling2D)  (None, 50, 50, 128)       0         \n",
            "                                                                 \n",
            " block3_conv1 (Conv2D)       (None, 50, 50, 256)       295168    \n",
            "                                                                 \n",
            " block3_conv2 (Conv2D)       (None, 50, 50, 256)       590080    \n",
            "                                                                 \n",
            " block3_conv3 (Conv2D)       (None, 50, 50, 256)       590080    \n",
            "                                                                 \n",
            " block3_pool (MaxPooling2D)  (None, 25, 25, 256)       0         \n",
            "                                                                 \n",
            " block4_conv1 (Conv2D)       (None, 25, 25, 512)       1180160   \n",
            "                                                                 \n",
            " block4_conv2 (Conv2D)       (None, 25, 25, 512)       2359808   \n",
            "                                                                 \n",
            " block4_conv3 (Conv2D)       (None, 25, 25, 512)       2359808   \n",
            "                                                                 \n",
            " block4_pool (MaxPooling2D)  (None, 12, 12, 512)       0         \n",
            "                                                                 \n",
            " block5_conv1 (Conv2D)       (None, 12, 12, 512)       2359808   \n",
            "                                                                 \n",
            " block5_conv2 (Conv2D)       (None, 12, 12, 512)       2359808   \n",
            "                                                                 \n",
            " block5_conv3 (Conv2D)       (None, 12, 12, 512)       2359808   \n",
            "                                                                 \n",
            " block5_pool (MaxPooling2D)  (None, 6, 6, 512)         0         \n",
            "                                                                 \n",
            " flatten_1 (Flatten)         (None, 18432)             0         \n",
            "                                                                 \n",
            " dense_1 (Dense)             (None, 2)                 36866     \n",
            "                                                                 \n",
            "=================================================================\n",
            "Total params: 14,751,554\n",
            "Trainable params: 36,866\n",
            "Non-trainable params: 14,714,688\n",
            "_________________________________________________________________\n"
          ]
        }
      ]
    },
    {
      "cell_type": "code",
      "source": [
        "gen=ImageDataGenerator(rotation_range=20,width_shift_range=0.1,height_shift_range=0.1,shear_range=0.1,zoom_range=0.2,horizontal_flip=True,preprocessing_function=preprocess_input)"
      ],
      "metadata": {
        "id": "58uerkV4Jo1O"
      },
      "execution_count": 21,
      "outputs": []
    },
    {
      "cell_type": "code",
      "source": [
        "batch_size=128\n",
        "train_path='/content/training'\n",
        "valid_path='/content/validation'\n",
        "\n",
        "\n",
        "train_generator=gen.flow_from_directory(\n",
        "    train_path,shuffle=True,target_size=IMAGE_SIZE,batch_size=batch_size\n",
        ")\n",
        "\n",
        "valid_generator=gen.flow_from_directory(\n",
        "    valid_path,target_size=IMAGE_SIZE,batch_size=batch_size\n",
        ")"
      ],
      "metadata": {
        "colab": {
          "base_uri": "https://localhost:8080/"
        },
        "id": "dYCSC8AOZaBj",
        "outputId": "a473f4c4-7cfc-4985-f075-2db923bdaee4"
      },
      "execution_count": 22,
      "outputs": [
        {
          "output_type": "stream",
          "name": "stdout",
          "text": [
            "Found 3000 images belonging to 2 classes.\n",
            "Found 1000 images belonging to 2 classes.\n"
          ]
        }
      ]
    },
    {
      "cell_type": "code",
      "source": [
        "model.compile(\n",
        "    loss='categorical_crossentropy',\n",
        "    optimizer='adam',\n",
        "    metrics=['accuracy']\n",
        ")"
      ],
      "metadata": {
        "id": "42sM6DILdkk2"
      },
      "execution_count": 23,
      "outputs": []
    },
    {
      "cell_type": "code",
      "source": [
        "image_files=glob(train_path+'/*/*.jpg')\n",
        "valid_image_files=glob(valid_path+'/*/*.jpg')"
      ],
      "metadata": {
        "id": "2FbCNlVbfwVP"
      },
      "execution_count": 36,
      "outputs": []
    },
    {
      "cell_type": "code",
      "source": [
        "  r=model.fit_generator(\n",
        "      train_generator,\n",
        "      validation_data=valid_generator,\n",
        "      epochs=10,\n",
        "      steps_per_epoch=int(np.ceil(len(image_files)/batch_size)),\n",
        "      validation_steps=int(np.ceil(len(valid_image_files)/batch_size))\n",
        "  )"
      ],
      "metadata": {
        "colab": {
          "base_uri": "https://localhost:8080/"
        },
        "id": "MJPboDxvdzI-",
        "outputId": "4fd4b855-952e-4019-b675-fd957e34e4fe"
      },
      "execution_count": 40,
      "outputs": [
        {
          "output_type": "stream",
          "name": "stderr",
          "text": [
            "<ipython-input-40-c90bc9750aa4>:1: UserWarning: `Model.fit_generator` is deprecated and will be removed in a future version. Please use `Model.fit`, which supports generators.\n",
            "  r=model.fit_generator(\n"
          ]
        },
        {
          "output_type": "stream",
          "name": "stdout",
          "text": [
            "Epoch 1/10\n",
            "24/24 [==============================] - 82s 3s/step - loss: 1.2337 - accuracy: 0.9320 - val_loss: 0.8873 - val_accuracy: 0.9610\n",
            "Epoch 2/10\n",
            "24/24 [==============================] - 59s 2s/step - loss: 0.5083 - accuracy: 0.9753 - val_loss: 0.7550 - val_accuracy: 0.9690\n",
            "Epoch 3/10\n",
            "24/24 [==============================] - 64s 3s/step - loss: 0.2846 - accuracy: 0.9843 - val_loss: 0.7166 - val_accuracy: 0.9730\n",
            "Epoch 4/10\n",
            "24/24 [==============================] - 59s 2s/step - loss: 0.2255 - accuracy: 0.9887 - val_loss: 0.9813 - val_accuracy: 0.9650\n",
            "Epoch 5/10\n",
            "24/24 [==============================] - 64s 3s/step - loss: 0.2351 - accuracy: 0.9877 - val_loss: 0.8472 - val_accuracy: 0.9680\n",
            "Epoch 6/10\n",
            "24/24 [==============================] - 59s 2s/step - loss: 0.1935 - accuracy: 0.9903 - val_loss: 0.9118 - val_accuracy: 0.9650\n",
            "Epoch 7/10\n",
            "24/24 [==============================] - 59s 2s/step - loss: 0.2879 - accuracy: 0.9877 - val_loss: 0.9057 - val_accuracy: 0.9730\n",
            "Epoch 8/10\n",
            "24/24 [==============================] - 64s 3s/step - loss: 0.1560 - accuracy: 0.9907 - val_loss: 0.9581 - val_accuracy: 0.9700\n",
            "Epoch 9/10\n",
            "24/24 [==============================] - 59s 2s/step - loss: 0.0901 - accuracy: 0.9923 - val_loss: 0.8150 - val_accuracy: 0.9730\n",
            "Epoch 10/10\n",
            "24/24 [==============================] - 60s 3s/step - loss: 0.1307 - accuracy: 0.9917 - val_loss: 1.1251 - val_accuracy: 0.9660\n"
          ]
        }
      ]
    },
    {
      "cell_type": "code",
      "source": [
        "plt.plot(r.history['accuracy'],label='teain_acc')\n",
        "plt.plot(r.history['val_accuracy'],label='val_acc')\n",
        "plt.legend()\n",
        "plt.show()"
      ],
      "metadata": {
        "colab": {
          "base_uri": "https://localhost:8080/",
          "height": 265
        },
        "id": "frvkVTSojDbg",
        "outputId": "d07336eb-62fe-4671-f7b3-e1a6745b6ff1"
      },
      "execution_count": 49,
      "outputs": [
        {
          "output_type": "display_data",
          "data": {
            "text/plain": [
              "<Figure size 432x288 with 1 Axes>"
            ],
            "image/png": "[encoded data removed]"
          },
          "metadata": {
            "needs_background": "light"
          }
        }
      ]
    },
    {
      "cell_type": "code",
      "source": [
        "plt.plot(r.history['loss'],label='teain_loss')\n",
        "plt.plot(r.history['val_loss'],label='val_loss')\n",
        "plt.legend()\n",
        "plt.show()"
      ],
      "metadata": {
        "colab": {
          "base_uri": "https://localhost:8080/",
          "height": 265
        },
        "id": "EAkREdmfmUac",
        "outputId": "95caba25-35d0-47da-bc7e-c6aa45cb5245"
      },
      "execution_count": 50,
      "outputs": [
        {
          "output_type": "display_data",
          "data": {
            "text/plain": [
              "<Figure size 432x288 with 1 Axes>"
            ],
            "image/png": "[encoded data removed]"
          },
          "metadata": {
            "needs_background": "light"
          }
        }
      ]
    }
  ]
}